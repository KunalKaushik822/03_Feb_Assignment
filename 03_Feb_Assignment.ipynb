{
 "cells": [
  {
   "cell_type": "code",
   "execution_count": 1,
   "id": "1d5a7561-36fb-4c5d-a152-1e9de35bdab5",
   "metadata": {},
   "outputs": [],
   "source": [
    "\"\"\"Q1.Which keyword is used to create a function? Create a function to return a list of odd numbers in the range of 1 to 25.\"\"\"\n",
    "\n",
    "\n",
    "# Answer. \"def\" keyword is used to create a function.\n",
    "\n",
    "def function():\n",
    "    return(list(range(1,25,2)))"
   ]
  },
  {
   "cell_type": "code",
   "execution_count": 2,
   "id": "d737bfa6-6bcc-4be0-a56e-47bf571cfdb7",
   "metadata": {},
   "outputs": [
    {
     "data": {
      "text/plain": [
       "[1, 3, 5, 7, 9, 11, 13, 15, 17, 19, 21, 23]"
      ]
     },
     "execution_count": 2,
     "metadata": {},
     "output_type": "execute_result"
    }
   ],
   "source": [
    "function()"
   ]
  },
  {
   "cell_type": "code",
   "execution_count": 3,
   "id": "1d76c07f-9dd1-4ddc-a36b-b2f02612d42c",
   "metadata": {},
   "outputs": [
    {
     "name": "stdout",
     "output_type": "stream",
     "text": [
      "[1, 3, 5, 7, 9, 11, 13, 15, 17, 19, 21, 23, 25]\n"
     ]
    }
   ],
   "source": [
    "def get_odd_numbers():\n",
    "  \"\"\"Returns a list of odd numbers in the range of 1 to 25.\"\"\"\n",
    "  return list(range(1, 26, 2))  # Use range(start, stop, step) to generate odd numbers\n",
    "\n",
    "# Print the list of odd numbers\n",
    "print(get_odd_numbers())\n"
   ]
  },
  {
   "cell_type": "code",
   "execution_count": 4,
   "id": "e430e9fc-7fd7-4214-b26b-156dede9ba33",
   "metadata": {},
   "outputs": [
    {
     "name": "stdout",
     "output_type": "stream",
     "text": [
      "Hello, Alice!\n",
      "Hello, Bob!\n",
      "Hello, Charlie!\n",
      "name: John\n",
      "age: 30\n",
      "city: New York\n"
     ]
    }
   ],
   "source": [
    "\"\"\"Q2.Why *args and **kwargs is used in some functions? Create a function each for *args and **kwargs to demonstrate their use.\"\"\"\n",
    "\n",
    "#Answer\n",
    "# Purpose:\n",
    "    \n",
    "#     They allow functions to accept a variable number of arguments,making them more flexible and adorable.\n",
    "    \n",
    "#     This means you can call the function with different number of inputs without having to modify its definition each time.\n",
    "\n",
    "# How they work:\n",
    "    \n",
    "#     *args gathers an indefinite number of positional arguments into a tuple.\n",
    "#     Used when you dont know exactly how many arguments will be passed to the function.\n",
    "    \n",
    "    \n",
    "def greet_people(*names):\n",
    "    for name in names:\n",
    "        print(\"Hello,\" , name + \"!\")\n",
    "greet_people(\"Alice\", \"Bob\", \"Charlie\")\n",
    "\n",
    "# **kwargs\n",
    "\n",
    "# Gathers an indefinite number of keywords arguments into a dictionary.\n",
    "\n",
    "# Used when you want to accept optional arguments with names.\n",
    "    \n",
    "\n",
    "def print_info(**info):\n",
    "  for key, value in info.items():\n",
    "    print(key + \":\", value)\n",
    "\n",
    "print_info(name=\"John\", age=30, city=\"New York\")  # Output: name: John age: 30 city: New York\n",
    "    "
   ]
  },
  {
   "cell_type": "code",
   "execution_count": 5,
   "id": "a4e5654e-87c7-4d64-a25c-319ba9529e0d",
   "metadata": {},
   "outputs": [
    {
     "name": "stdout",
     "output_type": "stream",
     "text": [
      "2\n",
      "4\n",
      "6\n",
      "8\n",
      "10\n"
     ]
    }
   ],
   "source": [
    "\"\"\"Q3. What is an iterator in python? Name the method used to initialise the iterator object and the method\n",
    "used for iteration. Use these methods to print the first five elements of the given list [2, 4, 6, 8, 10, 12, 14,\n",
    "16, 18, 20].\"\"\"\n",
    "\n",
    "# Answer\n",
    "# An iterator is an object that allows you to traverse through elements of an iterable object(like lists,tuples,sets,etc.)one at a time.\n",
    "\n",
    "# It keeps track of the current position during the iteration, so you can acccess elements sequentially.\n",
    "\n",
    "# It keeps track of the current position during the iteration , so you can access elements sequentially.\n",
    "\n",
    "# Key methods for iterators:\n",
    "\n",
    "# iter() method:\n",
    "\n",
    "# Used to create an iterator object from an iterable.\n",
    "# Syntax: iterator = iter(iterable)\n",
    "# next() method:\n",
    "\n",
    "# Used to retrieve the next element from the iterator.\n",
    "# Raises a StopIteration exception when there are no more elements.\n",
    "# Syntax: next(iterator)\n",
    "\n",
    "list1 = [2, 4, 6, 8, 10, 12, 14, 16, 18, 20]\n",
    "\n",
    "# Create an iterator object\n",
    "iterator = iter(list1)\n",
    "\n",
    "# Print the first five elements using next()\n",
    "for i in range(5):\n",
    "    print(next(iterator))\n"
   ]
  },
  {
   "cell_type": "code",
   "execution_count": 6,
   "id": "85d7fffe-f145-4078-8e84-0fec83dcc718",
   "metadata": {},
   "outputs": [
    {
     "data": {
      "text/plain": [
       "'Q4 What is an generator function in python ? Why yield keyword is used? Give an example of generator function.'"
      ]
     },
     "execution_count": 6,
     "metadata": {},
     "output_type": "execute_result"
    }
   ],
   "source": [
    "\"\"\"Q4 What is an generator function in python ? Why yield keyword is used? Give an example of generator function.\"\"\""
   ]
  },
  {
   "cell_type": "code",
   "execution_count": 7,
   "id": "5cfa4414-16b4-4681-97f0-b95635768d9a",
   "metadata": {},
   "outputs": [
    {
     "name": "stdout",
     "output_type": "stream",
     "text": [
      "0\n",
      "1\n",
      "1\n",
      "2\n",
      "3\n"
     ]
    }
   ],
   "source": [
    "# It is a special type of function that returns an iterator , producing values on demand rather than creating them all at once.\n",
    "\n",
    "# It uses the yield keyword instead of return to pause execution and return a value ,while maintaining its state for the next call.\n",
    "\n",
    "\n",
    "# Memory efficiency: Generators don't store all elements in memory simultaneously, making them ideal for large datasets or infinite sequences.\n",
    "# Control: You can pause and resume the generation of values, allowing for flexible processing and pausing operations as needed.\n",
    "# Readability: Generators often make code more readable by expressing sequences concisely and avoiding explicit loops.\n",
    "\n",
    "def fibonacci(n):\n",
    "  \"\"\"\n",
    "  Generates the first n Fibonacci numbers.\n",
    "  \"\"\"\n",
    "  a, b = 0, 1\n",
    "  for _ in range(n):\n",
    "    yield a  # Pause here, yield the current value, and resume later\n",
    "    a, b = b, a + b\n",
    "\n",
    "# Get the first 5 Fibonacci numbers\n",
    "for num in fibonacci(5):\n",
    "  print(num)\n"
   ]
  },
  {
   "cell_type": "code",
   "execution_count": 11,
   "id": "e341d893-c7b2-40ff-af10-62aa3269bbc2",
   "metadata": {},
   "outputs": [
    {
     "name": "stdout",
     "output_type": "stream",
     "text": [
      "2\n",
      "3\n",
      "5\n",
      "7\n",
      "11\n",
      "13\n",
      "17\n",
      "19\n",
      "23\n",
      "29\n",
      "31\n",
      "37\n",
      "41\n",
      "43\n",
      "47\n",
      "53\n",
      "59\n",
      "61\n",
      "67\n",
      "71\n"
     ]
    }
   ],
   "source": [
    "\"\"\"Q5. Create a generator function for prime numbers less than 1000. Use the next() method to print the first 20 prime numbers.\"\"\"\n",
    "\n",
    "def prime_generator():\n",
    "  \"\"\"\n",
    "  Generate prime numbers less than 1000.\n",
    "  \"\"\"\n",
    "  num = 2\n",
    "  while True:\n",
    "    is_prime = True\n",
    "    for i in range(2, int(num**0.5) + 1):\n",
    "      if num % i == 0:\n",
    "        is_prime = False\n",
    "        break\n",
    "    if is_prime:\n",
    "      yield num\n",
    "    num += 1\n",
    "\n",
    "# Print the first 20 prime numbers\n",
    "count = 0\n",
    "for prime in prime_generator():\n",
    "  if count == 20:\n",
    "    break\n",
    "  print(prime)\n",
    "  count += 1\n",
    "\n"
   ]
  },
  {
   "cell_type": "code",
   "execution_count": 23,
   "id": "153e6e35-9e5e-40df-9d3f-0f383ce7d70c",
   "metadata": {},
   "outputs": [
    {
     "name": "stdout",
     "output_type": "stream",
     "text": [
      "0\n",
      "1\n",
      "1\n",
      "2\n",
      "3\n",
      "5\n",
      "8\n",
      "13\n",
      "21\n",
      "34\n"
     ]
    }
   ],
   "source": [
    "\"\"\"Q6. Write a python program to print the first 10 fibonacci numbers using a while loop.\"\"\"\n",
    "\n",
    "def fibonacci(n):\n",
    "    a,b = 0,1\n",
    "    count = 0\n",
    "    \n",
    "    while count<n:\n",
    "        print(a)\n",
    "        a,b = b, a+b\n",
    "        count = count +1\n",
    "        \n",
    "        \n",
    "fibonacci(10)\n",
    "        "
   ]
  },
  {
   "cell_type": "code",
   "execution_count": 46,
   "id": "56808880-a3c7-4d47-b98a-cbafb9f0cd99",
   "metadata": {},
   "outputs": [
    {
     "data": {
      "text/plain": [
       "['p', 'w', 's', 'k', 'i', 'l', 'l', 's']"
      ]
     },
     "execution_count": 46,
     "metadata": {},
     "output_type": "execute_result"
    }
   ],
   "source": [
    "\"\"\"Q7. Write a list comprehension to iterate through the given string: 'pwskills'.\n",
    "Expected output : ['p', 'w', 's', 'k', 'i', 'l', 'l', 's']\"\"\"\n",
    "\n",
    "\n",
    "s=\"pwskills\"\n",
    "\n",
    "[i for i in s]\n"
   ]
  },
  {
   "cell_type": "markdown",
   "id": "508451f9-a2fc-40ee-86cc-2a006d689ca4",
   "metadata": {
    "tags": []
   },
   "source": [
    " \"\"\"Q8. Write a python proagram to check whether a given number is palindrome or not using a while loop.\"\"\"\n",
    "\n",
    "\n",
    "\n",
    "def is_palindrome(number):\n",
    "    original_number = number\n",
    "    reversed_number = 0\n",
    "    \n",
    "    while number > 0 :\n",
    "        digit = number % 10\n",
    "        reversed_number = reversed_number * 10 + digit\n",
    "        number = number//10\n",
    "    return original_number == reversed_number\n",
    "\n",
    "\n",
    "user_input = int(input(\"Enter a number: \"))\n",
    "if is_palindrome(user_input):\n",
    "    print(f\"{user_input} is a palindrome number.\")\n",
    "else:\n",
    "    print(f\"{user_input} is not a palindrome.\")"
   ]
  },
  {
   "cell_type": "code",
   "execution_count": 61,
   "id": "8a37b783-e7fb-4aeb-b60e-f35b744ce72e",
   "metadata": {},
   "outputs": [
    {
     "name": "stdin",
     "output_type": "stream",
     "text": [
      "Enter a number:  42\n"
     ]
    },
    {
     "name": "stdout",
     "output_type": "stream",
     "text": [
      "42 is not a palindrome.\n"
     ]
    }
   ],
   "source": [
    "\"\"\"Q8. Write a python proagram to check whether a given number is palindrome or not using a while loop.\"\"\"\n",
    "\n",
    "def is_palindrome(number): \n",
    "    original_number = number \n",
    "    reversed_number = 0\n",
    "\n",
    "    while number > 0 :\n",
    "        digit = number % 10\n",
    "        reversed_number = reversed_number * 10 + digit\n",
    "        number = number//10\n",
    "    return original_number == reversed_number\n",
    "\n",
    "user_input = int(input(\"Enter a number: \")) \n",
    "if is_palindrome(user_input): \n",
    "    print(f\"{user_input} is a palindrome number.\") \n",
    "else: print(f\"{user_input} is not a palindrome.\")"
   ]
  },
  {
   "cell_type": "code",
   "execution_count": 58,
   "id": "d5d49e4e-7e8b-4275-991f-8f5cf11fe80e",
   "metadata": {},
   "outputs": [
    {
     "data": {
      "text/plain": [
       "False"
      ]
     },
     "execution_count": 58,
     "metadata": {},
     "output_type": "execute_result"
    }
   ],
   "source": [
    "is_palindrome(42)"
   ]
  },
  {
   "cell_type": "code",
   "execution_count": 59,
   "id": "7df5c091-fb9a-4909-8554-a16323814342",
   "metadata": {},
   "outputs": [],
   "source": [
    "digit = 42%10"
   ]
  },
  {
   "cell_type": "code",
   "execution_count": 60,
   "id": "94da2732-a8d0-4312-9580-a312c646226f",
   "metadata": {},
   "outputs": [
    {
     "data": {
      "text/plain": [
       "2"
      ]
     },
     "execution_count": 60,
     "metadata": {},
     "output_type": "execute_result"
    }
   ],
   "source": [
    "digit"
   ]
  },
  {
   "cell_type": "code",
   "execution_count": 63,
   "id": "d042e704-0bed-46c6-a415-0d007e13d66a",
   "metadata": {},
   "outputs": [],
   "source": [
    " number = 42//10"
   ]
  },
  {
   "cell_type": "code",
   "execution_count": 66,
   "id": "e26ad26b-4583-4ac3-ac76-6becb5ee0a9c",
   "metadata": {},
   "outputs": [
    {
     "data": {
      "text/plain": [
       "4"
      ]
     },
     "execution_count": 66,
     "metadata": {},
     "output_type": "execute_result"
    }
   ],
   "source": [
    "number"
   ]
  },
  {
   "cell_type": "code",
   "execution_count": 94,
   "id": "734e479d-49a9-457a-bbb9-e96ebe6b974a",
   "metadata": {},
   "outputs": [
    {
     "name": "stdout",
     "output_type": "stream",
     "text": [
      "[1, 3, 5, 7, 9, 11, 13, 15, 17, 19, 21, 23, 25, 27, 29, 31, 33, 35, 37, 39, 41, 43, 45, 47, 49, 51, 53, 55, 57, 59, 61, 63, 65, 67, 69, 71, 73, 75, 77, 79, 81, 83, 85, 87, 89, 91, 93, 95, 97, 99]\n"
     ]
    }
   ],
   "source": [
    "\"\"\"Q9. Write a code to print odd numbers from 1 to 100 using list comprehension\"\"\"\n",
    "\n",
    "l1 =[i  for i in range(1,101)]\n",
    "odd_l1 =[i for i in l1 if i % 2!=0]\n",
    "\n",
    "print(odd_l1)"
   ]
  },
  {
   "cell_type": "code",
   "execution_count": null,
   "id": "e8912fa0-d854-48ac-9804-8e7d5e3a7151",
   "metadata": {},
   "outputs": [],
   "source": []
  }
 ],
 "metadata": {
  "kernelspec": {
   "display_name": "Python 3 (ipykernel)",
   "language": "python",
   "name": "python3"
  },
  "language_info": {
   "codemirror_mode": {
    "name": "ipython",
    "version": 3
   },
   "file_extension": ".py",
   "mimetype": "text/x-python",
   "name": "python",
   "nbconvert_exporter": "python",
   "pygments_lexer": "ipython3",
   "version": "3.10.8"
  }
 },
 "nbformat": 4,
 "nbformat_minor": 5
}
